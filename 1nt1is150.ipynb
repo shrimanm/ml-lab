{
 "cells": [
  {
   "cell_type": "code",
   "execution_count": 1,
   "metadata": {},
   "outputs": [
    {
     "name": "stdout",
     "output_type": "stream",
     "text": [
      "abc\n"
     ]
    }
   ],
   "source": [
    "print(\"abc\")"
   ]
  },
  {
   "cell_type": "code",
   "execution_count": 2,
   "metadata": {},
   "outputs": [
    {
     "name": "stdout",
     "output_type": "stream",
     "text": [
      "9\n"
     ]
    }
   ],
   "source": [
    "a = 5\n",
    "b = 4\n",
    "print(a+b)"
   ]
  },
  {
   "cell_type": "code",
   "execution_count": 4,
   "metadata": {},
   "outputs": [
    {
     "name": "stdout",
     "output_type": "stream",
     "text": [
      "2\n",
      "true\n"
     ]
    }
   ],
   "source": [
    "a = int(input())\n",
    "if a:\n",
    "    print(\"true\")\n",
    "else:\n",
    "    print(\"flase\")"
   ]
  },
  {
   "cell_type": "code",
   "execution_count": 7,
   "metadata": {},
   "outputs": [
    {
     "name": "stdout",
     "output_type": "stream",
     "text": [
      "[3, 4, 1, 2, 6, 8]\n",
      "[3, 1, 2, 6, 8]\n",
      "[3, 1, 2, 6]\n"
     ]
    }
   ],
   "source": [
    "a = []\n",
    "a.append(3)\n",
    "a.append(4)\n",
    "a.append(1)\n",
    "a.append(2)\n",
    "a.append(6)\n",
    "a.append(8)\n",
    "print(a)\n",
    "a.remove(4)\n",
    "print(a)\n",
    "a.pop()\n",
    "print(a)"
   ]
  },
  {
   "cell_type": "code",
   "execution_count": 8,
   "metadata": {},
   "outputs": [
    {
     "name": "stdout",
     "output_type": "stream",
     "text": [
      "<class 'tuple'>\n"
     ]
    }
   ],
   "source": [
    "a = (1,2,3)\n",
    "print(type(a))"
   ]
  },
  {
   "cell_type": "code",
   "execution_count": 9,
   "metadata": {},
   "outputs": [
    {
     "name": "stdout",
     "output_type": "stream",
     "text": [
      "<class 'int'>\n"
     ]
    }
   ],
   "source": [
    "a = (1)\n",
    "print(type(a))"
   ]
  },
  {
   "cell_type": "code",
   "execution_count": 10,
   "metadata": {},
   "outputs": [
    {
     "name": "stdout",
     "output_type": "stream",
     "text": [
      "<class 'tuple'>\n"
     ]
    }
   ],
   "source": [
    "a = (1,)\n",
    "print(type(a))"
   ]
  },
  {
   "cell_type": "code",
   "execution_count": 23,
   "metadata": {
    "scrolled": true
   },
   "outputs": [
    {
     "name": "stdout",
     "output_type": "stream",
     "text": [
      "{1: 's', 2: 's', 3: 'v'}\n",
      "<class 'dict'>\n",
      "1 s  \n",
      "2 s  \n",
      "3 v  \n"
     ]
    }
   ],
   "source": [
    "d = {}\n",
    "d[1] = \"s\"\n",
    "d[2] = \"s\"\n",
    "d[3] = \"v\"\n",
    "print(d)\n",
    "print(type(d))\n",
    "for i in d:\n",
    "    print(i,d[i],\" \")"
   ]
  },
  {
   "cell_type": "code",
   "execution_count": 4,
   "metadata": {},
   "outputs": [],
   "source": [
    "import numpy as np\n",
    "import pandas as pd\n",
    "from copy import deepcopy\n",
    "k = 3\n",
    "import random as rd\n",
    "import matplotlib.pyplot as plt\n"
   ]
  },
  {
   "cell_type": "code",
   "execution_count": 10,
   "metadata": {},
   "outputs": [
    {
     "name": "stdout",
     "output_type": "stream",
     "text": [
      "    x1   x2\n",
      "0  5.9  3.2\n",
      "1  4.6  2.9\n",
      "2  6.2  2.8\n",
      "3  4.7  3.2\n",
      "4  5.5  4.2\n",
      "5  5.0  3.0\n",
      "6  4.9  3.1\n",
      "7  6.7  3.1\n",
      "8  5.1  3.8\n",
      "9  6.0  3.0\n"
     ]
    }
   ],
   "source": [
    "x = pd.read_csv('/home/exam/1nt19is150/kmeans.csv')\n",
    "print(x)"
   ]
  },
  {
   "cell_type": "code",
   "execution_count": 13,
   "metadata": {},
   "outputs": [
    {
     "data": {
      "image/png": "[encoded data removed]",
      "text/plain": [
       "<Figure size 432x288 with 1 Axes>"
      ]
     },
     "metadata": {
      "needs_background": "light"
     },
     "output_type": "display_data"
    }
   ],
   "source": [
    "x = x[[\"x1\",\"x2\"]]\n",
    "plt.scatter(x[\"x1\"],x[\"x2\"],c='black')\n",
    "plt.xlabel('anual income')\n",
    "plt.ylabel('loan amount (in thousands)')\n",
    "plt.show()"
   ]
  },
  {
   "cell_type": "code",
   "execution_count": 14,
   "metadata": {},
   "outputs": [],
   "source": [
    "x1 = x['x1'].values\n",
    "x2 = x['x2'].values"
   ]
  },
  {
   "cell_type": "code",
   "execution_count": 15,
   "metadata": {},
   "outputs": [
    {
     "data": {
      "text/plain": [
       "array([5.9, 4.6, 6.2, 4.7, 5.5, 5. , 4.9, 6.7, 5.1, 6. ])"
      ]
     },
     "execution_count": 15,
     "metadata": {},
     "output_type": "execute_result"
    }
   ],
   "source": [
    "x1"
   ]
  },
  {
   "cell_type": "code",
   "execution_count": 16,
   "metadata": {},
   "outputs": [
    {
     "data": {
      "text/plain": [
       "array([3.2, 2.9, 2.8, 3.2, 4.2, 3. , 3.1, 3.1, 3.8, 3. ])"
      ]
     },
     "execution_count": 16,
     "metadata": {},
     "output_type": "execute_result"
    }
   ],
   "source": [
    "x2"
   ]
  },
  {
   "cell_type": "code",
   "execution_count": 19,
   "metadata": {},
   "outputs": [
    {
     "name": "stdout",
     "output_type": "stream",
     "text": [
      "[[5.9 3.2]\n",
      " [4.6 2.9]\n",
      " [6.2 2.8]\n",
      " [4.7 3.2]\n",
      " [5.5 4.2]\n",
      " [5.  3. ]\n",
      " [4.9 3.1]\n",
      " [6.7 3.1]\n",
      " [5.1 3.8]\n",
      " [6.  3. ]]\n"
     ]
    }
   ],
   "source": [
    "x = np.array(list(zip(x1,x2)))\n",
    "print(x)"
   ]
  },
  {
   "cell_type": "code",
   "execution_count": 20,
   "metadata": {},
   "outputs": [],
   "source": [
    "c_x = [6.2,6.6,6.5]\n",
    "c_y = [3.2,3.7,3.0]"
   ]
  },
  {
   "cell_type": "code",
   "execution_count": 26,
   "metadata": {},
   "outputs": [
    {
     "name": "stdout",
     "output_type": "stream",
     "text": [
      "initial centroid\n",
      "(3, 2)\n"
     ]
    }
   ],
   "source": [
    "centroid = np.array(list(zip(c_x,c_y)),dtype=np.float32)\n",
    "print(\"initial centroid\")\n",
    "print(centroid.shape)"
   ]
  },
  {
   "cell_type": "code",
   "execution_count": 27,
   "metadata": {},
   "outputs": [
    {
     "data": {
      "text/plain": [
       "array([[6.2, 3.2],\n",
       "       [6.6, 3.7],\n",
       "       [6.5, 3. ]], dtype=float32)"
      ]
     },
     "execution_count": 27,
     "metadata": {},
     "output_type": "execute_result"
    }
   ],
   "source": [
    "centroid"
   ]
  },
  {
   "cell_type": "code",
   "execution_count": 28,
   "metadata": {},
   "outputs": [
    {
     "data": {
      "text/plain": [
       "numpy.ndarray"
      ]
     },
     "execution_count": 28,
     "metadata": {},
     "output_type": "execute_result"
    }
   ],
   "source": [
    "type(centroid)"
   ]
  },
  {
   "cell_type": "code",
   "execution_count": 30,
   "metadata": {},
   "outputs": [
    {
     "name": "stdout",
     "output_type": "stream",
     "text": [
      "[[0. 0.]\n",
      " [0. 0.]\n",
      " [0. 0.]]\n"
     ]
    }
   ],
   "source": [
    "centroid_old = np.zeros(centroid.shape)\n",
    "print(centroid_old)"
   ]
  },
  {
   "cell_type": "code",
   "execution_count": 32,
   "metadata": {},
   "outputs": [
    {
     "name": "stdout",
     "output_type": "stream",
     "text": [
      "[0. 0. 0. 0. 0. 0. 0. 0. 0. 0.]\n"
     ]
    }
   ],
   "source": [
    "clusters = np.zeros(len(x))\n",
    "print(clusters)"
   ]
  },
  {
   "cell_type": "code",
   "execution_count": 33,
   "metadata": {},
   "outputs": [
    {
     "data": {
      "text/plain": [
       "[0, 1, 2, 0, 0, 1, 2, 1, 1, 0]"
      ]
     },
     "execution_count": 33,
     "metadata": {},
     "output_type": "execute_result"
    }
   ],
   "source": [
    "[0,1,2,0,0,1,2,1,1,0]"
   ]
  },
  {
   "cell_type": "code",
   "execution_count": 36,
   "metadata": {},
   "outputs": [],
   "source": [
    "def euclidian(a,b,ax=1):\n",
    "    return np.linalg.norm(a-b,axis=ax)"
   ]
  },
  {
   "cell_type": "code",
   "execution_count": 37,
   "metadata": {},
   "outputs": [
    {
     "name": "stdout",
     "output_type": "stream",
     "text": [
      "12.537144692236463\n"
     ]
    }
   ],
   "source": [
    "error = euclidian(centroid,centroid_old,None)\n",
    "print(error)"
   ]
  },
  {
   "cell_type": "code",
   "execution_count": 38,
   "metadata": {},
   "outputs": [],
   "source": [
    "iterr = 0"
   ]
  },
  {
   "cell_type": "code",
   "execution_count": null,
   "metadata": {},
   "outputs": [],
   "source": [
    "while error != 0:\n",
    "    iterr = iterr + 1\n",
    "    for i in range(len(x)):\n",
    "        \n"
   ]
  }
 ],
 "metadata": {
  "kernelspec": {
   "display_name": "Python 3",
   "language": "python",
   "name": "python3"
  },
  "language_info": {
   "codemirror_mode": {
    "name": "ipython",
    "version": 3
   },
   "file_extension": ".py",
   "mimetype": "text/x-python",
   "name": "python",
   "nbconvert_exporter": "python",
   "pygments_lexer": "ipython3",
   "version": "3.8.10"
  }
 },
 "nbformat": 4,
 "nbformat_minor": 4
}
